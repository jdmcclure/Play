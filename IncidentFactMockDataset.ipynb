{
 "cells": [
  {
   "cell_type": "markdown",
   "id": "2d4e473d-1dc5-4512-be5e-69b2fbb1ff77",
   "metadata": {},
   "source": [
    "<h1> Import Libraries </h1>"
   ]
  },
  {
   "cell_type": "code",
   "execution_count": 11,
   "id": "4b45fed5-7c04-4218-b6ed-c0f1c8d80685",
   "metadata": {
    "tags": []
   },
   "outputs": [],
   "source": [
    "import pandas as pd\n",
    "import numpy as np\n",
    "from datetime import datetime, timedelta"
   ]
  },
  {
   "cell_type": "markdown",
   "id": "d2c21119-e4db-40fa-bd79-a2bc45727dc1",
   "metadata": {},
   "source": [
    "<h1> Load DIM Table and Create Fact </h1>"
   ]
  },
  {
   "cell_type": "code",
   "execution_count": 34,
   "id": "fd750f04-4def-4e6c-9ab6-77e857536d09",
   "metadata": {
    "tags": []
   },
   "outputs": [
    {
     "name": "stdout",
     "output_type": "stream",
     "text": [
      "Process Complete\n"
     ]
    }
   ],
   "source": [
    "# Load the mock dimension table \n",
    "df_dim = pd.read_csv(r'~\\Python\\MockIncidentDIM.csv')\n",
    "\n",
    "# Create fake officer IDs\n",
    "officer_ids = [f'Officer{i}' for i in range(1, 23)]\n",
    "\n",
    "fact_data = []\n",
    "\n",
    "# Iterate through unique incident numbers\n",
    "unique_incident_numbers = df_dim['incident_number'].unique()\n",
    "\n",
    "for incident_number in unique_incident_numbers:\n",
    "    problem_type = df_dim.loc[df_dim['incident_number'] == incident_number, 'problem'].values[0]\n",
    "\n",
    "    if problem_type in [\"Extra Patrol\", \"Directed Patrol\"]:\n",
    "        num_assigned_officers = 1\n",
    "    elif problem_type == \"Traffic Stop\":\n",
    "        num_assigned_officers = np.random.randint(1, 3)\n",
    "    else:\n",
    "        num_assigned_officers = np.random.randint(1, 4)\n",
    "\n",
    "    sampled_officers = np.random.choice(officer_ids, size=num_assigned_officers, replace=False)\n",
    "\n",
    "    # Generate date times based on time_call_entered_queue in the dim table\n",
    "    time_call_entered_queue = df_dim.loc[df_dim['incident_number'] == incident_number, 'time_call_entered_queue'].values[0]\n",
    "    assigned_difference_secs = np.random.randint(10, 91)\n",
    "    cleared_difference_secs = np.random.randint(120, 3600)\n",
    "    assigned_datetime = pd.to_datetime(time_call_entered_queue) + timedelta(seconds=assigned_difference_secs)\n",
    "    # Generate the arrived datetime based on urgency and assigned time\n",
    "    priority_desc = df_dim.loc[df_dim['incident_number'] == incident_number, 'priority_desc'].values[0]\n",
    "    if priority_desc in [\"Emergency\", \"Urgent\"]:\n",
    "        time_difference_arrived = np.random.randint(10, 240)\n",
    "    else:\n",
    "        time_difference_arrived = np.random.randint(30, 1441)\n",
    "    arrived_datetime = assigned_datetime + timedelta(seconds=time_difference_arrived)\n",
    "    cleared_datetime = arrived_datetime + timedelta(seconds=cleared_difference_secs)\n",
    "    \n",
    "    response_secs = (arrived_datetime - assigned_datetime).total_seconds()\n",
    "    total_secs = (cleared_datetime - assigned_datetime).total_seconds()\n",
    "    time_on_call = (cleared_datetime - assigned_datetime).total_seconds()\n",
    "    \n",
    "    primary_flag = [1] + [0] * (num_assigned_officers - 1)\n",
    "    \n",
    "    for officer_id, primary_flag in zip(sampled_officers, primary_flag):\n",
    "        fact_data.append([\n",
    "            incident_number,\n",
    "            officer_id,\n",
    "            assigned_datetime,\n",
    "            arrived_datetime,\n",
    "            cleared_datetime,\n",
    "            np.nan,\n",
    "            response_secs,\n",
    "            total_secs,\n",
    "            time_on_call,\n",
    "            primary_flag])\n",
    "\n",
    "# Create the fact table DataFrame\n",
    "fact_columns = ['incident_number', 'officer_id', 'assigned', 'arrived', 'cleared', 'delay', 'response_secs', 'total_secs', 'time_on_call', 'primary_flag']\n",
    "df_fact = pd.DataFrame(fact_data, columns=fact_columns).reset_index().rename(columns={'index': 'id'})\n",
    "\n",
    "print(\"Process Complete\")"
   ]
  },
  {
   "cell_type": "code",
   "execution_count": 1,
   "id": "3bc94d5f-6e1f-42b1-9527-c83330e0611f",
   "metadata": {
    "tags": []
   },
   "outputs": [
    {
     "ename": "NameError",
     "evalue": "name 'df_fact' is not defined",
     "output_type": "error",
     "traceback": [
      "\u001b[1;31m---------------------------------------------------------------------------\u001b[0m",
      "\u001b[1;31mNameError\u001b[0m                                 Traceback (most recent call last)",
      "Cell \u001b[1;32mIn[1], line 1\u001b[0m\n\u001b[1;32m----> 1\u001b[0m df_fact\u001b[38;5;241m.\u001b[39mhead(\u001b[38;5;241m5\u001b[39m)\n",
      "\u001b[1;31mNameError\u001b[0m: name 'df_fact' is not defined"
     ]
    }
   ],
   "source": [
    "df_fact.head(5)"
   ]
  },
  {
   "cell_type": "code",
   "execution_count": 36,
   "id": "a69187b6-5072-433f-8757-e3ee0603e5be",
   "metadata": {
    "tags": []
   },
   "outputs": [],
   "source": [
    "df_fact.to_csv('MockIncidentFact.csv')"
   ]
  },
  {
   "cell_type": "code",
   "execution_count": null,
   "id": "e59fadbb-4aa3-4ec4-b350-7d54126ab941",
   "metadata": {},
   "outputs": [],
   "source": []
  }
 ],
 "metadata": {
  "kernelspec": {
   "display_name": "Python 3 (ipykernel)",
   "language": "python",
   "name": "python3"
  },
  "language_info": {
   "codemirror_mode": {
    "name": "ipython",
    "version": 3
   },
   "file_extension": ".py",
   "mimetype": "text/x-python",
   "name": "python",
   "nbconvert_exporter": "python",
   "pygments_lexer": "ipython3",
   "version": "3.11.4"
  }
 },
 "nbformat": 4,
 "nbformat_minor": 5
}
